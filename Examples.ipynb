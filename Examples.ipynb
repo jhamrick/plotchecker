{
 "cells": [
  {
   "cell_type": "markdown",
   "metadata": {},
   "source": [
    "# Grading matplotlib plots"
   ]
  },
  {
   "cell_type": "code",
   "execution_count": 1,
   "metadata": {
    "collapsed": false
   },
   "outputs": [],
   "source": [
    "%matplotlib inline\n",
    "import matplotlib.pyplot as plt\n",
    "import numpy as np"
   ]
  },
  {
   "cell_type": "markdown",
   "metadata": {},
   "source": [
    "## Scatter plots"
   ]
  },
  {
   "cell_type": "code",
   "execution_count": 2,
   "metadata": {
    "collapsed": true
   },
   "outputs": [],
   "source": [
    "from plotchecker import ScatterPlotChecker\n",
    "\n",
    "x = np.random.rand(20)\n",
    "y = np.random.rand(20)"
   ]
  },
  {
   "cell_type": "code",
   "execution_count": 3,
   "metadata": {
    "collapsed": false
   },
   "outputs": [
    {
     "data": {
      "image/png": "[encoded data removed]",
      "text/plain": [
       "<matplotlib.figure.Figure at 0x1123f5f98>"
      ]
     },
     "metadata": {},
     "output_type": "display_data"
    }
   ],
   "source": [
    "fig, axes = plt.subplots(1, 3)\n",
    "\n",
    "# create a scatter plot with plot\n",
    "axes[0].plot(x, y, 'o', color='b', ms=5)\n",
    "\n",
    "# create a scatter plot with scatter\n",
    "axes[1].scatter(x, y, s=25, linewidth=0.5)\n",
    "\n",
    "# create a scatter plot with plot *and* scatter!\n",
    "axes[2].plot(x[:10], y[:10], 'o', color='b', ms=5)\n",
    "axes[2].scatter(x[10:], y[10:], s=25, linewidth=0.5)\n",
    "\n",
    "fig.set_figwidth(12)\n",
    "plt.tight_layout()"
   ]
  },
  {
   "cell_type": "code",
   "execution_count": 4,
   "metadata": {
    "collapsed": false
   },
   "outputs": [
    {
     "name": "stdout",
     "output_type": "stream",
     "text": [
      "Success!\n"
     ]
    }
   ],
   "source": [
    "# run the same assertions on all three plots!\n",
    "for ax in axes:\n",
    "    pc = ScatterPlotChecker(ax)\n",
    "    pc.assert_x_data_equal(x)\n",
    "    pc.assert_y_data_equal(y)\n",
    "    pc.assert_colors_equal('b')\n",
    "    pc.assert_edgecolors_equal('k')\n",
    "    pc.assert_edgewidths_equal(0.5)\n",
    "    pc.assert_sizes_equal(25)\n",
    "    pc.assert_markersizes_equal(5)\n",
    "    pc.assert_alphas_equal(1)\n",
    "    \n",
    "    # can't actually check markers, since they are unrecoverable\n",
    "    # from plt.scatter :(\n",
    "    #pc.assert_markers_equal('o')\n",
    "    \n",
    "print('Success!')"
   ]
  },
  {
   "cell_type": "code",
   "execution_count": 5,
   "metadata": {
    "collapsed": false
   },
   "outputs": [
    {
     "data": {
      "image/png": "[encoded data removed]",
      "text/plain": [
       "<matplotlib.figure.Figure at 0x1126c8e10>"
      ]
     },
     "metadata": {},
     "output_type": "display_data"
    }
   ],
   "source": [
    "fig, axes = plt.subplots(1, 3)\n",
    "\n",
    "# choose some random colors and sizes\n",
    "colors = np.random.rand(20, 3)\n",
    "sizes = np.random.rand(20) * 5\n",
    "\n",
    "# create a scatter plot with plot, using a loop\n",
    "for i in range(20):\n",
    "    axes[0].plot(x[i], y[i], 'o', color=colors[i], ms=sizes[i])\n",
    "\n",
    "# create a scatter plot with scatter\n",
    "axes[1].scatter(x, y, c=colors, s=sizes ** 2, linewidth=0.5)\n",
    "\n",
    "# create a scatter plot with scatter, using a loop\n",
    "for i in range(20):\n",
    "    axes[2].scatter(x[i], y[i], c=colors[i], s=sizes[i] ** 2, linewidth=0.5)\n",
    "\n",
    "fig.set_figwidth(12)\n",
    "plt.tight_layout()"
   ]
  },
  {
   "cell_type": "code",
   "execution_count": 6,
   "metadata": {
    "collapsed": false
   },
   "outputs": [
    {
     "name": "stdout",
     "output_type": "stream",
     "text": [
      "Success!\n"
     ]
    }
   ],
   "source": [
    "# run the same assertions on all three plots!\n",
    "for ax in axes:\n",
    "    pc = ScatterPlotChecker(ax)\n",
    "    pc.assert_x_data_equal(x)\n",
    "    pc.assert_y_data_equal(y)\n",
    "    pc.assert_colors_equal(colors)\n",
    "    pc.assert_edgecolors_equal('k')\n",
    "    pc.assert_edgewidths_equal(0.5)\n",
    "    pc.assert_sizes_equal(sizes ** 2)\n",
    "    pc.assert_markersizes_equal(sizes)\n",
    "    pc.assert_alphas_equal(1)\n",
    "    \n",
    "    # can't actually check markers, since they are unrecoverable\n",
    "    # from plt.scatter :(\n",
    "    #pc.assert_markers_equal('o')\n",
    "\n",
    "print('Success!')"
   ]
  }
 ],
 "metadata": {
  "kernelspec": {
   "display_name": "Python 3",
   "language": "python",
   "name": "python3"
  },
  "language_info": {
   "codemirror_mode": {
    "name": "ipython",
    "version": 3
   },
   "file_extension": ".py",
   "mimetype": "text/x-python",
   "name": "python",
   "nbconvert_exporter": "python",
   "pygments_lexer": "ipython3",
   "version": "3.4.2"
  }
 },
 "nbformat": 4,
 "nbformat_minor": 0
}
